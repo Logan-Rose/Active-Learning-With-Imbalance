{
 "cells": [
  {
   "cell_type": "code",
   "execution_count": 89,
   "metadata": {},
   "outputs": [],
   "source": [
    "import warnings\n",
    "\n",
    "import pandas as pd\n",
    "import numpy as np\n",
    "import matplotlib.pyplot as plt\n",
    "import json\n",
    "import problexity as px\n",
    "\n",
    "from sklearn.linear_model import LogisticRegression # Works\n",
    "from sklearn.discriminant_analysis import LinearDiscriminantAnalysis # Works\n",
    "from sklearn.neighbors import KNeighborsClassifier # Works\n",
    "from sklearn.naive_bayes import GaussianNB # Works\n",
    "from sklearn.tree import DecisionTreeClassifier\n",
    "from sklearn.svm import SVC\n",
    "\n",
    "from sklearn.metrics import make_scorer, f1_score, accuracy_score, precision_score, recall_score, confusion_matrix, classification_report\n",
    "from sklearn.model_selection import train_test_split, cross_val_score, cross_validate\n",
    "\n",
    "from imblearn.metrics import geometric_mean_score, make_index_balanced_accuracy, specificity_score\n",
    "\n",
    "from sklearn.preprocessing import LabelEncoder\n",
    "from numpy import average\n",
    "from sklearn.multioutput import MultiOutputClassifier\n",
    "from sklearn.exceptions import ConvergenceWarning\n",
    "import warnings\n",
    "\n",
    "\n",
    "le = LabelEncoder()\n",
    "\n",
    "SEED = 42\n",
    "DATA_STRUCTURE = json.load(open('data_structure.json'))\n",
    "DATA_KEYS = list(DATA_STRUCTURE.keys())\n",
    "CLASSIFIERS = {\n",
    "  \"GaussianNB\":GaussianNB,\n",
    "  \"LinearDiscriminantAnalysis\":LinearDiscriminantAnalysis,\n",
    "  \"KNeighborsClassifier\":KNeighborsClassifier,\n",
    "  \"DecisionTreeClassifier\":DecisionTreeClassifier,\n",
    "  \"LogisticRegression\": LogisticRegression,\n",
    "  # \"SVC\":SVC\n",
    "  # Random forrest \n",
    "}\n",
    "complexityDFColumns = ['dataset','t1','t2', 't3']\n",
    "OUTPUT_COLS = ['dataset', 'target', 'target_name', 'avg_precision', 'precision_folds', 'avg_recall', 'recall_folds', 'avg_f1', 'f1_folds', 'avg_geometric_mean', 'geometric_mean_folds','avg_specificity','specificity_folds']"
   ]
  },
  {
   "cell_type": "code",
   "execution_count": 1,
   "metadata": {},
   "outputs": [
    {
     "ename": "NameError",
     "evalue": "name 'pd' is not defined",
     "output_type": "error",
     "traceback": [
      "\u001b[0;31m---------------------------------------------------------------------------\u001b[0m",
      "\u001b[0;31mNameError\u001b[0m                                 Traceback (most recent call last)",
      "Cell \u001b[0;32mIn [1], line 1\u001b[0m\n\u001b[0;32m----> 1\u001b[0m complexityDF \u001b[39m=\u001b[39m pd\u001b[39m.\u001b[39mread_csv(\u001b[39mf\u001b[39m\u001b[39m'\u001b[39m\u001b[39m./out/complexityDF.csv\u001b[39m\u001b[39m'\u001b[39m, index_col\u001b[39m=\u001b[39m\u001b[39m0\u001b[39m)\n\u001b[1;32m      3\u001b[0m plt\u001b[39m.\u001b[39mfigure( dpi\u001b[39m=\u001b[39m\u001b[39m100\u001b[39m)\n\u001b[1;32m      5\u001b[0m fig, axs \u001b[39m=\u001b[39m plt\u001b[39m.\u001b[39msubplots(\u001b[39m4\u001b[39m,\u001b[39m3\u001b[39m, constrained_layout\u001b[39m=\u001b[39m\u001b[39mTrue\u001b[39;00m)\n",
      "\u001b[0;31mNameError\u001b[0m: name 'pd' is not defined"
     ]
    }
   ],
   "source": [
    "complexityDF = pd.read_csv(f'./out/complexityDF.csv', index_col=0)\n",
    "\n",
    "plt.figure( dpi=100)\n",
    "\n",
    "fig, axs = plt.subplots(4,3, constrained_layout=True)\n",
    "fig.set_size_inches(10,10)\n",
    "fig.suptitle('N3 Data Complexity Measures', fontsize=32, y=1.2)\n",
    "fig.set_figwidth(30)\n",
    "fig.set_figheight(8)\n",
    "\n",
    "complexityDFColumns = ['dataset','t1','t2', 't3']\n",
    "complexityDF.columns = complexityDFColumns\n",
    "for row, data in complexityDF.iterrows():\n",
    "  print(data[0])\n",
    "  axs[row//3, row%3].bar(complexityDFColumns[1:],data.values[1:], capsize=6)\n",
    "  axs[row//3, row%3].set_title(f'{data[0]}')\n",
    "  axs[row//3, row%3].set_ylim([0, 1])\n"
   ]
  },
  {
   "cell_type": "code",
   "execution_count": 120,
   "metadata": {},
   "outputs": [
    {
     "name": "stdout",
     "output_type": "stream",
     "text": [
      "['t1' 't1' 't2' 't3' 't1' 't1' 't3' 't1' 't2' 't2']\n",
      "['mushroom' 'anuran' 'anuran' 'anuran' 'bank' 'intention' 'intention'\n",
      " 'imdb' 'flight' 'intention']\n",
      "------------------------------------------------\n",
      "['t1' 't3' 't1' 't1' 't2' 't1' 't3' 't3' 't1' 't2']\n",
      "['paris' 'imdb' 'census' 'flight' 'bank' 'telco' 'smoking' 'mushroom'\n",
      " 'smoking' 'telco']\n",
      "------------------------------------------------\n",
      "['t3' 't3' 't2' 't2' 't3' 't3' 't2' 't2' 't3' 't2']\n",
      "['flight' 'census' 'smoking' 'paris' 'paris' 'bank' 'census' 'imdb'\n",
      " 'telco' 'mushroom']\n",
      "------------------------------------------------\n"
     ]
    },
    {
     "data": {
      "image/png": "[encoded data removed]",
      "text/plain": [
       "<Figure size 640x480 with 1 Axes>"
      ]
     },
     "metadata": {},
     "output_type": "display_data"
    }
   ],
   "source": [
    "meltedComplexityDF = pd.melt(complexityDF, value_vars=['t1','t2', 't3'], var_name='Target', id_vars=['dataset'])\n",
    "\n",
    "meltedComplexityDF= meltedComplexityDF.sort_values(by=['value'], ignore_index=True)\n",
    "chunks = np.array_split(meltedComplexityDF, 3)\n",
    "for i, chunk in enumerate(chunks):\n",
    "  print(chunk['Target'].values)\n",
    "  print(chunk['dataset'].values)\n",
    "  labels = []\n",
    "  for i in range(len(chunk['Target'].values)):\n",
    "    labels.append(chunk['dataset'].values[i] + '_' +  chunk['Target'].values[i])\n",
    "  \n",
    "\n",
    "\n",
    "  plt.bar( labels, chunk['value'].values, width=0.8, bottom=None, align='center', data=None)\n",
    "  print('------------------------------------------------')\n"
   ]
  }
 ],
 "metadata": {
  "kernelspec": {
   "display_name": "Python 3.10.6 ('csi4900')",
   "language": "python",
   "name": "python3"
  },
  "language_info": {
   "codemirror_mode": {
    "name": "ipython",
    "version": 3
   },
   "file_extension": ".py",
   "mimetype": "text/x-python",
   "name": "python",
   "nbconvert_exporter": "python",
   "pygments_lexer": "ipython3",
   "version": "3.10.6"
  },
  "orig_nbformat": 4,
  "vscode": {
   "interpreter": {
    "hash": "11c5f941b3679d86a3337c94acfde891d9c2e84f639f121f0c3784daecf41f4e"
   }
  }
 },
 "nbformat": 4,
 "nbformat_minor": 2
}
